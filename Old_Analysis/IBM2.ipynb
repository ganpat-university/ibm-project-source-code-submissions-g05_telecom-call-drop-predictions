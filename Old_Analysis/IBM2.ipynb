{
  "cells": [
    {
      "cell_type": "markdown",
      "source": [
        "# Old"
      ],
      "metadata": {
        "id": "o49MaqsnlZq-"
      }
    },
    {
      "cell_type": "code",
      "execution_count": null,
      "metadata": {
        "colab": {
          "base_uri": "https://localhost:8080/"
        },
        "id": "GEXecYdUPHGO",
        "outputId": "ff418eba-bd44-4095-feff-94c113b116ac"
      },
      "outputs": [
        {
          "output_type": "stream",
          "name": "stdout",
          "text": [
            "Mounted at /content/drive\n"
          ]
        }
      ],
      "source": [
        "import pandas as pd\n",
        "import numpy as np\n",
        "import matplotlib.pyplot as plt\n",
        "import pickle\n",
        "from google.colab import drive\n",
        "drive.mount('/content/drive')"
      ]
    },
    {
      "cell_type": "code",
      "execution_count": null,
      "metadata": {
        "colab": {
          "base_uri": "https://localhost:8080/"
        },
        "id": "drjHlz87tbux",
        "outputId": "a3544e61-b7f0-45fa-c364-d43cd13641b1"
      },
      "outputs": [
        {
          "output_type": "execute_result",
          "data": {
            "text/plain": [
              "  Operator In Out Travelling Network Type  Rating Call Drop Category  \\\n",
              "0     RJio            Indoor           4G       4       Satisfactory   \n",
              "1   Airtel           Outdoor           4G       5       Satisfactory   \n",
              "2   Airtel            Indoor           4G       5       Satisfactory   \n",
              "3   Airtel            Indoor           4G       4       Satisfactory   \n",
              "4   Airtel            Indoor           4G       5       Satisfactory   \n",
              "\n",
              "    Latitude  Longitude  State Name  \n",
              "0  12.691526  78.635086  Tamil Nadu  \n",
              "1  25.594805  85.220971       Bihar  \n",
              "2  25.595471  85.221376       Bihar  \n",
              "3  28.640839  77.229266         NCT  \n",
              "4  28.640833  77.229232         NCT  "
            ],
            "text/html": [
              "\n",
              "  <div id=\"df-e97597c5-0bdc-4346-846b-24986492207d\">\n",
              "    <div class=\"colab-df-container\">\n",
              "      <div>\n",
              "<style scoped>\n",
              "    .dataframe tbody tr th:only-of-type {\n",
              "        vertical-align: middle;\n",
              "    }\n",
              "\n",
              "    .dataframe tbody tr th {\n",
              "        vertical-align: top;\n",
              "    }\n",
              "\n",
              "    .dataframe thead th {\n",
              "        text-align: right;\n",
              "    }\n",
              "</style>\n",
              "<table border=\"1\" class=\"dataframe\">\n",
              "  <thead>\n",
              "    <tr style=\"text-align: right;\">\n",
              "      <th></th>\n",
              "      <th>Operator</th>\n",
              "      <th>In Out Travelling</th>\n",
              "      <th>Network Type</th>\n",
              "      <th>Rating</th>\n",
              "      <th>Call Drop Category</th>\n",
              "      <th>Latitude</th>\n",
              "      <th>Longitude</th>\n",
              "      <th>State Name</th>\n",
              "    </tr>\n",
              "  </thead>\n",
              "  <tbody>\n",
              "    <tr>\n",
              "      <th>0</th>\n",
              "      <td>RJio</td>\n",
              "      <td>Indoor</td>\n",
              "      <td>4G</td>\n",
              "      <td>4</td>\n",
              "      <td>Satisfactory</td>\n",
              "      <td>12.691526</td>\n",
              "      <td>78.635086</td>\n",
              "      <td>Tamil Nadu</td>\n",
              "    </tr>\n",
              "    <tr>\n",
              "      <th>1</th>\n",
              "      <td>Airtel</td>\n",
              "      <td>Outdoor</td>\n",
              "      <td>4G</td>\n",
              "      <td>5</td>\n",
              "      <td>Satisfactory</td>\n",
              "      <td>25.594805</td>\n",
              "      <td>85.220971</td>\n",
              "      <td>Bihar</td>\n",
              "    </tr>\n",
              "    <tr>\n",
              "      <th>2</th>\n",
              "      <td>Airtel</td>\n",
              "      <td>Indoor</td>\n",
              "      <td>4G</td>\n",
              "      <td>5</td>\n",
              "      <td>Satisfactory</td>\n",
              "      <td>25.595471</td>\n",
              "      <td>85.221376</td>\n",
              "      <td>Bihar</td>\n",
              "    </tr>\n",
              "    <tr>\n",
              "      <th>3</th>\n",
              "      <td>Airtel</td>\n",
              "      <td>Indoor</td>\n",
              "      <td>4G</td>\n",
              "      <td>4</td>\n",
              "      <td>Satisfactory</td>\n",
              "      <td>28.640839</td>\n",
              "      <td>77.229266</td>\n",
              "      <td>NCT</td>\n",
              "    </tr>\n",
              "    <tr>\n",
              "      <th>4</th>\n",
              "      <td>Airtel</td>\n",
              "      <td>Indoor</td>\n",
              "      <td>4G</td>\n",
              "      <td>5</td>\n",
              "      <td>Satisfactory</td>\n",
              "      <td>28.640833</td>\n",
              "      <td>77.229232</td>\n",
              "      <td>NCT</td>\n",
              "    </tr>\n",
              "  </tbody>\n",
              "</table>\n",
              "</div>\n",
              "      <button class=\"colab-df-convert\" onclick=\"convertToInteractive('df-e97597c5-0bdc-4346-846b-24986492207d')\"\n",
              "              title=\"Convert this dataframe to an interactive table.\"\n",
              "              style=\"display:none;\">\n",
              "        \n",
              "  <svg xmlns=\"http://www.w3.org/2000/svg\" height=\"24px\"viewBox=\"0 0 24 24\"\n",
              "       width=\"24px\">\n",
              "    <path d=\"M0 0h24v24H0V0z\" fill=\"none\"/>\n",
              "    <path d=\"M18.56 5.44l.94 2.06.94-2.06 2.06-.94-2.06-.94-.94-2.06-.94 2.06-2.06.94zm-11 1L8.5 8.5l.94-2.06 2.06-.94-2.06-.94L8.5 2.5l-.94 2.06-2.06.94zm10 10l.94 2.06.94-2.06 2.06-.94-2.06-.94-.94-2.06-.94 2.06-2.06.94z\"/><path d=\"M17.41 7.96l-1.37-1.37c-.4-.4-.92-.59-1.43-.59-.52 0-1.04.2-1.43.59L10.3 9.45l-7.72 7.72c-.78.78-.78 2.05 0 2.83L4 21.41c.39.39.9.59 1.41.59.51 0 1.02-.2 1.41-.59l7.78-7.78 2.81-2.81c.8-.78.8-2.07 0-2.86zM5.41 20L4 18.59l7.72-7.72 1.47 1.35L5.41 20z\"/>\n",
              "  </svg>\n",
              "      </button>\n",
              "      \n",
              "  <style>\n",
              "    .colab-df-container {\n",
              "      display:flex;\n",
              "      flex-wrap:wrap;\n",
              "      gap: 12px;\n",
              "    }\n",
              "\n",
              "    .colab-df-convert {\n",
              "      background-color: #E8F0FE;\n",
              "      border: none;\n",
              "      border-radius: 50%;\n",
              "      cursor: pointer;\n",
              "      display: none;\n",
              "      fill: #1967D2;\n",
              "      height: 32px;\n",
              "      padding: 0 0 0 0;\n",
              "      width: 32px;\n",
              "    }\n",
              "\n",
              "    .colab-df-convert:hover {\n",
              "      background-color: #E2EBFA;\n",
              "      box-shadow: 0px 1px 2px rgba(60, 64, 67, 0.3), 0px 1px 3px 1px rgba(60, 64, 67, 0.15);\n",
              "      fill: #174EA6;\n",
              "    }\n",
              "\n",
              "    [theme=dark] .colab-df-convert {\n",
              "      background-color: #3B4455;\n",
              "      fill: #D2E3FC;\n",
              "    }\n",
              "\n",
              "    [theme=dark] .colab-df-convert:hover {\n",
              "      background-color: #434B5C;\n",
              "      box-shadow: 0px 1px 3px 1px rgba(0, 0, 0, 0.15);\n",
              "      filter: drop-shadow(0px 1px 2px rgba(0, 0, 0, 0.3));\n",
              "      fill: #FFFFFF;\n",
              "    }\n",
              "  </style>\n",
              "\n",
              "      <script>\n",
              "        const buttonEl =\n",
              "          document.querySelector('#df-e97597c5-0bdc-4346-846b-24986492207d button.colab-df-convert');\n",
              "        buttonEl.style.display =\n",
              "          google.colab.kernel.accessAllowed ? 'block' : 'none';\n",
              "\n",
              "        async function convertToInteractive(key) {\n",
              "          const element = document.querySelector('#df-e97597c5-0bdc-4346-846b-24986492207d');\n",
              "          const dataTable =\n",
              "            await google.colab.kernel.invokeFunction('convertToInteractive',\n",
              "                                                     [key], {});\n",
              "          if (!dataTable) return;\n",
              "\n",
              "          const docLinkHtml = 'Like what you see? Visit the ' +\n",
              "            '<a target=\"_blank\" href=https://colab.research.google.com/notebooks/data_table.ipynb>data table notebook</a>'\n",
              "            + ' to learn more about interactive tables.';\n",
              "          element.innerHTML = '';\n",
              "          dataTable['output_type'] = 'display_data';\n",
              "          await google.colab.output.renderOutput(dataTable, element);\n",
              "          const docLink = document.createElement('div');\n",
              "          docLink.innerHTML = docLinkHtml;\n",
              "          element.appendChild(docLink);\n",
              "        }\n",
              "      </script>\n",
              "    </div>\n",
              "  </div>\n",
              "  "
            ]
          },
          "metadata": {},
          "execution_count": 2
        }
      ],
      "source": [
        "df = pd.read_csv(\"/content/drive/MyDrive/datasets/MyCall_Data_September_2019_cleaning.csv\")\n",
        "df.head()\n"
      ]
    },
    {
      "cell_type": "code",
      "execution_count": null,
      "metadata": {
        "colab": {
          "base_uri": "https://localhost:8080/"
        },
        "id": "1dp4qGvEtggL",
        "outputId": "d30b1abc-1ff4-4838-ff2d-426e22c11384"
      },
      "outputs": [
        {
          "output_type": "execute_result",
          "data": {
            "text/plain": [
              "       Operator In Out Travelling Network Type  Rating  Call Drop Category  \\\n",
              "0          RJio            Indoor           4G       4        Satisfactory   \n",
              "1        Airtel           Outdoor           4G       5        Satisfactory   \n",
              "2        Airtel            Indoor           4G       5        Satisfactory   \n",
              "3        Airtel            Indoor           4G       4        Satisfactory   \n",
              "4        Airtel            Indoor           4G       5        Satisfactory   \n",
              "...         ...               ...          ...     ...                 ...   \n",
              "16955      RJio           Outdoor           4G       5        Satisfactory   \n",
              "16956  Vodafone           Outdoor           4G       2  Poor Voice Quality   \n",
              "16957      RJio            Indoor           4G       1        Call Dropped   \n",
              "16958      BSNL        Travelling           2G       1        Call Dropped   \n",
              "16959  Vodafone            Indoor           3G       5        Satisfactory   \n",
              "\n",
              "        State Name  \n",
              "0       Tamil Nadu  \n",
              "1            Bihar  \n",
              "2            Bihar  \n",
              "3              NCT  \n",
              "4              NCT  \n",
              "...            ...  \n",
              "16955  Maharashtra  \n",
              "16956      Gujarat  \n",
              "16957       Odisha  \n",
              "16958  Maharashtra  \n",
              "16959  Maharashtra  \n",
              "\n",
              "[16960 rows x 6 columns]"
            ],
            "text/html": [
              "\n",
              "  <div id=\"df-f4182083-9b91-408e-81fc-11fe5b56079b\">\n",
              "    <div class=\"colab-df-container\">\n",
              "      <div>\n",
              "<style scoped>\n",
              "    .dataframe tbody tr th:only-of-type {\n",
              "        vertical-align: middle;\n",
              "    }\n",
              "\n",
              "    .dataframe tbody tr th {\n",
              "        vertical-align: top;\n",
              "    }\n",
              "\n",
              "    .dataframe thead th {\n",
              "        text-align: right;\n",
              "    }\n",
              "</style>\n",
              "<table border=\"1\" class=\"dataframe\">\n",
              "  <thead>\n",
              "    <tr style=\"text-align: right;\">\n",
              "      <th></th>\n",
              "      <th>Operator</th>\n",
              "      <th>In Out Travelling</th>\n",
              "      <th>Network Type</th>\n",
              "      <th>Rating</th>\n",
              "      <th>Call Drop Category</th>\n",
              "      <th>State Name</th>\n",
              "    </tr>\n",
              "  </thead>\n",
              "  <tbody>\n",
              "    <tr>\n",
              "      <th>0</th>\n",
              "      <td>RJio</td>\n",
              "      <td>Indoor</td>\n",
              "      <td>4G</td>\n",
              "      <td>4</td>\n",
              "      <td>Satisfactory</td>\n",
              "      <td>Tamil Nadu</td>\n",
              "    </tr>\n",
              "    <tr>\n",
              "      <th>1</th>\n",
              "      <td>Airtel</td>\n",
              "      <td>Outdoor</td>\n",
              "      <td>4G</td>\n",
              "      <td>5</td>\n",
              "      <td>Satisfactory</td>\n",
              "      <td>Bihar</td>\n",
              "    </tr>\n",
              "    <tr>\n",
              "      <th>2</th>\n",
              "      <td>Airtel</td>\n",
              "      <td>Indoor</td>\n",
              "      <td>4G</td>\n",
              "      <td>5</td>\n",
              "      <td>Satisfactory</td>\n",
              "      <td>Bihar</td>\n",
              "    </tr>\n",
              "    <tr>\n",
              "      <th>3</th>\n",
              "      <td>Airtel</td>\n",
              "      <td>Indoor</td>\n",
              "      <td>4G</td>\n",
              "      <td>4</td>\n",
              "      <td>Satisfactory</td>\n",
              "      <td>NCT</td>\n",
              "    </tr>\n",
              "    <tr>\n",
              "      <th>4</th>\n",
              "      <td>Airtel</td>\n",
              "      <td>Indoor</td>\n",
              "      <td>4G</td>\n",
              "      <td>5</td>\n",
              "      <td>Satisfactory</td>\n",
              "      <td>NCT</td>\n",
              "    </tr>\n",
              "    <tr>\n",
              "      <th>...</th>\n",
              "      <td>...</td>\n",
              "      <td>...</td>\n",
              "      <td>...</td>\n",
              "      <td>...</td>\n",
              "      <td>...</td>\n",
              "      <td>...</td>\n",
              "    </tr>\n",
              "    <tr>\n",
              "      <th>16955</th>\n",
              "      <td>RJio</td>\n",
              "      <td>Outdoor</td>\n",
              "      <td>4G</td>\n",
              "      <td>5</td>\n",
              "      <td>Satisfactory</td>\n",
              "      <td>Maharashtra</td>\n",
              "    </tr>\n",
              "    <tr>\n",
              "      <th>16956</th>\n",
              "      <td>Vodafone</td>\n",
              "      <td>Outdoor</td>\n",
              "      <td>4G</td>\n",
              "      <td>2</td>\n",
              "      <td>Poor Voice Quality</td>\n",
              "      <td>Gujarat</td>\n",
              "    </tr>\n",
              "    <tr>\n",
              "      <th>16957</th>\n",
              "      <td>RJio</td>\n",
              "      <td>Indoor</td>\n",
              "      <td>4G</td>\n",
              "      <td>1</td>\n",
              "      <td>Call Dropped</td>\n",
              "      <td>Odisha</td>\n",
              "    </tr>\n",
              "    <tr>\n",
              "      <th>16958</th>\n",
              "      <td>BSNL</td>\n",
              "      <td>Travelling</td>\n",
              "      <td>2G</td>\n",
              "      <td>1</td>\n",
              "      <td>Call Dropped</td>\n",
              "      <td>Maharashtra</td>\n",
              "    </tr>\n",
              "    <tr>\n",
              "      <th>16959</th>\n",
              "      <td>Vodafone</td>\n",
              "      <td>Indoor</td>\n",
              "      <td>3G</td>\n",
              "      <td>5</td>\n",
              "      <td>Satisfactory</td>\n",
              "      <td>Maharashtra</td>\n",
              "    </tr>\n",
              "  </tbody>\n",
              "</table>\n",
              "<p>16960 rows × 6 columns</p>\n",
              "</div>\n",
              "      <button class=\"colab-df-convert\" onclick=\"convertToInteractive('df-f4182083-9b91-408e-81fc-11fe5b56079b')\"\n",
              "              title=\"Convert this dataframe to an interactive table.\"\n",
              "              style=\"display:none;\">\n",
              "        \n",
              "  <svg xmlns=\"http://www.w3.org/2000/svg\" height=\"24px\"viewBox=\"0 0 24 24\"\n",
              "       width=\"24px\">\n",
              "    <path d=\"M0 0h24v24H0V0z\" fill=\"none\"/>\n",
              "    <path d=\"M18.56 5.44l.94 2.06.94-2.06 2.06-.94-2.06-.94-.94-2.06-.94 2.06-2.06.94zm-11 1L8.5 8.5l.94-2.06 2.06-.94-2.06-.94L8.5 2.5l-.94 2.06-2.06.94zm10 10l.94 2.06.94-2.06 2.06-.94-2.06-.94-.94-2.06-.94 2.06-2.06.94z\"/><path d=\"M17.41 7.96l-1.37-1.37c-.4-.4-.92-.59-1.43-.59-.52 0-1.04.2-1.43.59L10.3 9.45l-7.72 7.72c-.78.78-.78 2.05 0 2.83L4 21.41c.39.39.9.59 1.41.59.51 0 1.02-.2 1.41-.59l7.78-7.78 2.81-2.81c.8-.78.8-2.07 0-2.86zM5.41 20L4 18.59l7.72-7.72 1.47 1.35L5.41 20z\"/>\n",
              "  </svg>\n",
              "      </button>\n",
              "      \n",
              "  <style>\n",
              "    .colab-df-container {\n",
              "      display:flex;\n",
              "      flex-wrap:wrap;\n",
              "      gap: 12px;\n",
              "    }\n",
              "\n",
              "    .colab-df-convert {\n",
              "      background-color: #E8F0FE;\n",
              "      border: none;\n",
              "      border-radius: 50%;\n",
              "      cursor: pointer;\n",
              "      display: none;\n",
              "      fill: #1967D2;\n",
              "      height: 32px;\n",
              "      padding: 0 0 0 0;\n",
              "      width: 32px;\n",
              "    }\n",
              "\n",
              "    .colab-df-convert:hover {\n",
              "      background-color: #E2EBFA;\n",
              "      box-shadow: 0px 1px 2px rgba(60, 64, 67, 0.3), 0px 1px 3px 1px rgba(60, 64, 67, 0.15);\n",
              "      fill: #174EA6;\n",
              "    }\n",
              "\n",
              "    [theme=dark] .colab-df-convert {\n",
              "      background-color: #3B4455;\n",
              "      fill: #D2E3FC;\n",
              "    }\n",
              "\n",
              "    [theme=dark] .colab-df-convert:hover {\n",
              "      background-color: #434B5C;\n",
              "      box-shadow: 0px 1px 3px 1px rgba(0, 0, 0, 0.15);\n",
              "      filter: drop-shadow(0px 1px 2px rgba(0, 0, 0, 0.3));\n",
              "      fill: #FFFFFF;\n",
              "    }\n",
              "  </style>\n",
              "\n",
              "      <script>\n",
              "        const buttonEl =\n",
              "          document.querySelector('#df-f4182083-9b91-408e-81fc-11fe5b56079b button.colab-df-convert');\n",
              "        buttonEl.style.display =\n",
              "          google.colab.kernel.accessAllowed ? 'block' : 'none';\n",
              "\n",
              "        async function convertToInteractive(key) {\n",
              "          const element = document.querySelector('#df-f4182083-9b91-408e-81fc-11fe5b56079b');\n",
              "          const dataTable =\n",
              "            await google.colab.kernel.invokeFunction('convertToInteractive',\n",
              "                                                     [key], {});\n",
              "          if (!dataTable) return;\n",
              "\n",
              "          const docLinkHtml = 'Like what you see? Visit the ' +\n",
              "            '<a target=\"_blank\" href=https://colab.research.google.com/notebooks/data_table.ipynb>data table notebook</a>'\n",
              "            + ' to learn more about interactive tables.';\n",
              "          element.innerHTML = '';\n",
              "          dataTable['output_type'] = 'display_data';\n",
              "          await google.colab.output.renderOutput(dataTable, element);\n",
              "          const docLink = document.createElement('div');\n",
              "          docLink.innerHTML = docLinkHtml;\n",
              "          element.appendChild(docLink);\n",
              "        }\n",
              "      </script>\n",
              "    </div>\n",
              "  </div>\n",
              "  "
            ]
          },
          "metadata": {},
          "execution_count": 3
        }
      ],
      "source": [
        "df.drop(['Latitude', 'Longitude'],axis = 'columns', inplace = True)\n",
        "df"
      ]
    },
    {
      "cell_type": "code",
      "execution_count": null,
      "metadata": {
        "id": "JKGvz6KBn2Fl"
      },
      "outputs": [],
      "source": [
        "df.rename( columns = {\n",
        "    'In Out Travelling': 'InOut', 'Network Type': 'NetworkType', 'Call Drop Category': 'CallDropCategory', 'State Name': 'StateName'\n",
        "}, inplace = True)\n",
        "\n",
        "old = df.copy()"
      ]
    },
    {
      "cell_type": "code",
      "execution_count": null,
      "metadata": {
        "id": "rfwMTN-morBQ"
      },
      "outputs": [],
      "source": [
        "obj = {\n",
        "    'Operator': {'RJio':1 ,'Airtel':2,'Idea':3,'Other':4,'Vodafone':5,'BSNL':6,'MTNL':7}, \n",
        "    'InOut' : {'Indoor':1 ,'Outdoor':2,'Travelling':3}, \n",
        "    'NetworkType':  {'4G':1 ,'3G':2,'2G':3}, \n",
        "    'CallDropCategory': {'Satisfactory' : 1, 'Poor Voice Quality': 2, 'Call Dropped': 3},     \n",
        "    'StateName' : {}\n",
        "}\n",
        "\n",
        "count = 1\n",
        "for x in df['StateName'].unique(): \n",
        "  obj['StateName'][x] = count\n",
        "  count += 1"
      ]
    },
    {
      "cell_type": "code",
      "execution_count": null,
      "metadata": {
        "colab": {
          "base_uri": "https://localhost:8080/"
        },
        "id": "9qrPd1Czl0aQ",
        "outputId": "e7d7a17c-92d9-4bf4-e339-49bbd9c26776"
      },
      "outputs": [
        {
          "output_type": "execute_result",
          "data": {
            "text/plain": [
              "{'CallDropCategory': {'Call Dropped': 3,\n",
              "  'Poor Voice Quality': 2,\n",
              "  'Satisfactory': 1},\n",
              " 'InOut': {'Indoor': 1, 'Outdoor': 2, 'Travelling': 3},\n",
              " 'NetworkType': {'2G': 3, '3G': 2, '4G': 1},\n",
              " 'Operator': {'Airtel': 2,\n",
              "  'BSNL': 6,\n",
              "  'Idea': 3,\n",
              "  'MTNL': 7,\n",
              "  'Other': 4,\n",
              "  'RJio': 1,\n",
              "  'Vodafone': 5},\n",
              " 'StateName': {'Andaman and Nicobar Islands': 25,\n",
              "  'Andhra Pradesh': 14,\n",
              "  'Assam': 21,\n",
              "  'Bihar': 2,\n",
              "  'Chandigarh': 6,\n",
              "  'Chhattisgarh': 19,\n",
              "  'Goa': 23,\n",
              "  'Gujarat': 11,\n",
              "  'Haryana': 16,\n",
              "  'Himachal Pradesh': 24,\n",
              "  'Jharkhand': 15,\n",
              "  'Karnataka': 12,\n",
              "  'Kerala': 13,\n",
              "  'Lower Saxony': 20,\n",
              "  'Madhya Pradesh': 9,\n",
              "  'Maharashtra': 5,\n",
              "  'NCT': 3,\n",
              "  'Odisha': 22,\n",
              "  'Punjab': 7,\n",
              "  'Rajasthan': 17,\n",
              "  'Tamil Nadu': 1,\n",
              "  'Telangana': 10,\n",
              "  'Uttar Pradesh': 4,\n",
              "  'Uttarakhand': 18,\n",
              "  'West Bengal': 8}}"
            ]
          },
          "metadata": {},
          "execution_count": 6
        }
      ],
      "source": [
        "obj"
      ]
    },
    {
      "cell_type": "code",
      "execution_count": null,
      "metadata": {
        "colab": {
          "base_uri": "https://localhost:8080/"
        },
        "id": "EtdvxCzGfKRP",
        "outputId": "c0c78f58-c2e6-48c7-d3fe-17e28c85c20d"
      },
      "outputs": [
        {
          "output_type": "execute_result",
          "data": {
            "text/plain": [
              "       Operator  InOut  NetworkType  Rating  CallDropCategory  StateName\n",
              "0             1      1            1       4                 1          1\n",
              "1             2      2            1       5                 1          2\n",
              "2             2      1            1       5                 1          2\n",
              "3             2      1            1       4                 1          3\n",
              "4             2      1            1       5                 1          3\n",
              "...         ...    ...          ...     ...               ...        ...\n",
              "16955         1      2            1       5                 1          5\n",
              "16956         5      2            1       2                 2         11\n",
              "16957         1      1            1       1                 3         22\n",
              "16958         6      3            3       1                 3          5\n",
              "16959         5      1            2       5                 1          5\n",
              "\n",
              "[16960 rows x 6 columns]"
            ],
            "text/html": [
              "\n",
              "  <div id=\"df-2551e9b7-932c-4b2b-8f78-8d4632e260f5\">\n",
              "    <div class=\"colab-df-container\">\n",
              "      <div>\n",
              "<style scoped>\n",
              "    .dataframe tbody tr th:only-of-type {\n",
              "        vertical-align: middle;\n",
              "    }\n",
              "\n",
              "    .dataframe tbody tr th {\n",
              "        vertical-align: top;\n",
              "    }\n",
              "\n",
              "    .dataframe thead th {\n",
              "        text-align: right;\n",
              "    }\n",
              "</style>\n",
              "<table border=\"1\" class=\"dataframe\">\n",
              "  <thead>\n",
              "    <tr style=\"text-align: right;\">\n",
              "      <th></th>\n",
              "      <th>Operator</th>\n",
              "      <th>InOut</th>\n",
              "      <th>NetworkType</th>\n",
              "      <th>Rating</th>\n",
              "      <th>CallDropCategory</th>\n",
              "      <th>StateName</th>\n",
              "    </tr>\n",
              "  </thead>\n",
              "  <tbody>\n",
              "    <tr>\n",
              "      <th>0</th>\n",
              "      <td>1</td>\n",
              "      <td>1</td>\n",
              "      <td>1</td>\n",
              "      <td>4</td>\n",
              "      <td>1</td>\n",
              "      <td>1</td>\n",
              "    </tr>\n",
              "    <tr>\n",
              "      <th>1</th>\n",
              "      <td>2</td>\n",
              "      <td>2</td>\n",
              "      <td>1</td>\n",
              "      <td>5</td>\n",
              "      <td>1</td>\n",
              "      <td>2</td>\n",
              "    </tr>\n",
              "    <tr>\n",
              "      <th>2</th>\n",
              "      <td>2</td>\n",
              "      <td>1</td>\n",
              "      <td>1</td>\n",
              "      <td>5</td>\n",
              "      <td>1</td>\n",
              "      <td>2</td>\n",
              "    </tr>\n",
              "    <tr>\n",
              "      <th>3</th>\n",
              "      <td>2</td>\n",
              "      <td>1</td>\n",
              "      <td>1</td>\n",
              "      <td>4</td>\n",
              "      <td>1</td>\n",
              "      <td>3</td>\n",
              "    </tr>\n",
              "    <tr>\n",
              "      <th>4</th>\n",
              "      <td>2</td>\n",
              "      <td>1</td>\n",
              "      <td>1</td>\n",
              "      <td>5</td>\n",
              "      <td>1</td>\n",
              "      <td>3</td>\n",
              "    </tr>\n",
              "    <tr>\n",
              "      <th>...</th>\n",
              "      <td>...</td>\n",
              "      <td>...</td>\n",
              "      <td>...</td>\n",
              "      <td>...</td>\n",
              "      <td>...</td>\n",
              "      <td>...</td>\n",
              "    </tr>\n",
              "    <tr>\n",
              "      <th>16955</th>\n",
              "      <td>1</td>\n",
              "      <td>2</td>\n",
              "      <td>1</td>\n",
              "      <td>5</td>\n",
              "      <td>1</td>\n",
              "      <td>5</td>\n",
              "    </tr>\n",
              "    <tr>\n",
              "      <th>16956</th>\n",
              "      <td>5</td>\n",
              "      <td>2</td>\n",
              "      <td>1</td>\n",
              "      <td>2</td>\n",
              "      <td>2</td>\n",
              "      <td>11</td>\n",
              "    </tr>\n",
              "    <tr>\n",
              "      <th>16957</th>\n",
              "      <td>1</td>\n",
              "      <td>1</td>\n",
              "      <td>1</td>\n",
              "      <td>1</td>\n",
              "      <td>3</td>\n",
              "      <td>22</td>\n",
              "    </tr>\n",
              "    <tr>\n",
              "      <th>16958</th>\n",
              "      <td>6</td>\n",
              "      <td>3</td>\n",
              "      <td>3</td>\n",
              "      <td>1</td>\n",
              "      <td>3</td>\n",
              "      <td>5</td>\n",
              "    </tr>\n",
              "    <tr>\n",
              "      <th>16959</th>\n",
              "      <td>5</td>\n",
              "      <td>1</td>\n",
              "      <td>2</td>\n",
              "      <td>5</td>\n",
              "      <td>1</td>\n",
              "      <td>5</td>\n",
              "    </tr>\n",
              "  </tbody>\n",
              "</table>\n",
              "<p>16960 rows × 6 columns</p>\n",
              "</div>\n",
              "      <button class=\"colab-df-convert\" onclick=\"convertToInteractive('df-2551e9b7-932c-4b2b-8f78-8d4632e260f5')\"\n",
              "              title=\"Convert this dataframe to an interactive table.\"\n",
              "              style=\"display:none;\">\n",
              "        \n",
              "  <svg xmlns=\"http://www.w3.org/2000/svg\" height=\"24px\"viewBox=\"0 0 24 24\"\n",
              "       width=\"24px\">\n",
              "    <path d=\"M0 0h24v24H0V0z\" fill=\"none\"/>\n",
              "    <path d=\"M18.56 5.44l.94 2.06.94-2.06 2.06-.94-2.06-.94-.94-2.06-.94 2.06-2.06.94zm-11 1L8.5 8.5l.94-2.06 2.06-.94-2.06-.94L8.5 2.5l-.94 2.06-2.06.94zm10 10l.94 2.06.94-2.06 2.06-.94-2.06-.94-.94-2.06-.94 2.06-2.06.94z\"/><path d=\"M17.41 7.96l-1.37-1.37c-.4-.4-.92-.59-1.43-.59-.52 0-1.04.2-1.43.59L10.3 9.45l-7.72 7.72c-.78.78-.78 2.05 0 2.83L4 21.41c.39.39.9.59 1.41.59.51 0 1.02-.2 1.41-.59l7.78-7.78 2.81-2.81c.8-.78.8-2.07 0-2.86zM5.41 20L4 18.59l7.72-7.72 1.47 1.35L5.41 20z\"/>\n",
              "  </svg>\n",
              "      </button>\n",
              "      \n",
              "  <style>\n",
              "    .colab-df-container {\n",
              "      display:flex;\n",
              "      flex-wrap:wrap;\n",
              "      gap: 12px;\n",
              "    }\n",
              "\n",
              "    .colab-df-convert {\n",
              "      background-color: #E8F0FE;\n",
              "      border: none;\n",
              "      border-radius: 50%;\n",
              "      cursor: pointer;\n",
              "      display: none;\n",
              "      fill: #1967D2;\n",
              "      height: 32px;\n",
              "      padding: 0 0 0 0;\n",
              "      width: 32px;\n",
              "    }\n",
              "\n",
              "    .colab-df-convert:hover {\n",
              "      background-color: #E2EBFA;\n",
              "      box-shadow: 0px 1px 2px rgba(60, 64, 67, 0.3), 0px 1px 3px 1px rgba(60, 64, 67, 0.15);\n",
              "      fill: #174EA6;\n",
              "    }\n",
              "\n",
              "    [theme=dark] .colab-df-convert {\n",
              "      background-color: #3B4455;\n",
              "      fill: #D2E3FC;\n",
              "    }\n",
              "\n",
              "    [theme=dark] .colab-df-convert:hover {\n",
              "      background-color: #434B5C;\n",
              "      box-shadow: 0px 1px 3px 1px rgba(0, 0, 0, 0.15);\n",
              "      filter: drop-shadow(0px 1px 2px rgba(0, 0, 0, 0.3));\n",
              "      fill: #FFFFFF;\n",
              "    }\n",
              "  </style>\n",
              "\n",
              "      <script>\n",
              "        const buttonEl =\n",
              "          document.querySelector('#df-2551e9b7-932c-4b2b-8f78-8d4632e260f5 button.colab-df-convert');\n",
              "        buttonEl.style.display =\n",
              "          google.colab.kernel.accessAllowed ? 'block' : 'none';\n",
              "\n",
              "        async function convertToInteractive(key) {\n",
              "          const element = document.querySelector('#df-2551e9b7-932c-4b2b-8f78-8d4632e260f5');\n",
              "          const dataTable =\n",
              "            await google.colab.kernel.invokeFunction('convertToInteractive',\n",
              "                                                     [key], {});\n",
              "          if (!dataTable) return;\n",
              "\n",
              "          const docLinkHtml = 'Like what you see? Visit the ' +\n",
              "            '<a target=\"_blank\" href=https://colab.research.google.com/notebooks/data_table.ipynb>data table notebook</a>'\n",
              "            + ' to learn more about interactive tables.';\n",
              "          element.innerHTML = '';\n",
              "          dataTable['output_type'] = 'display_data';\n",
              "          await google.colab.output.renderOutput(dataTable, element);\n",
              "          const docLink = document.createElement('div');\n",
              "          docLink.innerHTML = docLinkHtml;\n",
              "          element.appendChild(docLink);\n",
              "        }\n",
              "      </script>\n",
              "    </div>\n",
              "  </div>\n",
              "  "
            ]
          },
          "metadata": {},
          "execution_count": 7
        }
      ],
      "source": [
        "#Do not run this code two times, otherwise the map function will convert all nonmatched values to NaN\n",
        "\n",
        "df['Operator'] = df['Operator'].map( {'RJio':1 ,'Airtel':2,'Idea':3,'Other':4,'Vodafone':5,'BSNL':6,'MTNL':7} )\n",
        "\n",
        "df['InOut'] = df['InOut'].map( {'Indoor':1 ,'Outdoor':2,'Travelling':3} )\n",
        "\n",
        "df['NetworkType'] = df['NetworkType'].map( {'4G':1 ,'3G':2,'2G':3} )\n",
        "\n",
        "df['CallDropCategory'] = df['CallDropCategory'].map( {'Satisfactory' : 1, 'Poor Voice Quality': 2, 'Call Dropped': 3} )\n",
        "\n",
        "df['StateName'] = df['StateName'].map(obj['StateName'])\n",
        "\n",
        "df"
      ]
    },
    {
      "cell_type": "code",
      "execution_count": null,
      "metadata": {
        "id": "XlP8v_V78rS6"
      },
      "outputs": [],
      "source": [
        "X = df.columns.tolist()\n",
        "X.remove('CallDropCategory')\n",
        "X = df[X]\n",
        "y = df['CallDropCategory']"
      ]
    },
    {
      "cell_type": "code",
      "execution_count": null,
      "metadata": {
        "id": "OPlAUjBmykWB"
      },
      "outputs": [],
      "source": [
        "from sklearn.model_selection import train_test_split\n",
        "X_train, X_test, y_train, y_test = train_test_split(X, y, test_size=0.2, random_state=1)\n",
        "\n",
        "from sklearn.metrics import confusion_matrix, ConfusionMatrixDisplay\n",
        "from sklearn import metrics"
      ]
    },
    {
      "cell_type": "code",
      "execution_count": null,
      "metadata": {
        "colab": {
          "base_uri": "https://localhost:8080/"
        },
        "id": "7TjGTbxe9FqO",
        "outputId": "6c59cab8-315a-4bd0-d1d1-8a527767a017"
      },
      "outputs": [
        {
          "output_type": "stream",
          "name": "stderr",
          "text": [
            "/usr/local/lib/python3.7/dist-packages/sklearn/base.py:444: UserWarning: X has feature names, but GaussianNB was fitted without feature names\n",
            "  f\"X has feature names, but {self.__class__.__name__} was fitted without\"\n"
          ]
        },
        {
          "output_type": "execute_result",
          "data": {
            "text/plain": [
              "[Text(0, 0.5, 'True'), Text(0.5, 0, 'Predicted')]"
            ]
          },
          "metadata": {},
          "execution_count": 10
        },
        {
          "output_type": "display_data",
          "data": {
            "text/plain": [
              "<Figure size 432x288 with 2 Axes>"
            ],
            "image/png": "[encoded data removed]"
          },
          "metadata": {
            "needs_background": "light"
          }
        }
      ],
      "source": [
        "from sklearn.naive_bayes import GaussianNB\n",
        "gaussNb = GaussianNB()\n",
        "gaussNb.fit(X_train.values, y_train)\n",
        " \n",
        "# predicting test set results\n",
        "y_pred = gaussNb.predict(X_test)\n",
        " \n",
        "# making the confusion matrix\n",
        "\n",
        "cm = confusion_matrix(y_test, y_pred)\n",
        "cmd = ConfusionMatrixDisplay(cm)\n",
        "\n",
        "cmd.plot()\n",
        "#cmd.ax_.set_title('title')\n",
        "cmd.ax_.set_title( 'Gaussian Naive Bayes')\n",
        "cmd.ax_.set(xlabel='Predicted', ylabel='True')\n",
        "\n"
      ]
    },
    {
      "cell_type": "code",
      "source": [
        "#saving the model as pickel module\n",
        "\n",
        "with open('/content/drive/MyDrive/Colab Notebooks/SavedModels/gaussNb_model.pkl', 'wb') as file: \n",
        "  pickle.dump(gaussNb, file)"
      ],
      "metadata": {
        "id": "gaHZY8cwKq4s"
      },
      "execution_count": null,
      "outputs": []
    },
    {
      "cell_type": "code",
      "execution_count": null,
      "metadata": {
        "colab": {
          "base_uri": "https://localhost:8080/"
        },
        "id": "QPgYbAU5FlkY",
        "outputId": "9738f908-242b-49e7-a15f-a8831dba6a86"
      },
      "outputs": [
        {
          "output_type": "stream",
          "name": "stdout",
          "text": [
            "\n",
            "Gaussian Naive Bayes model accuracy(in %): 86.88089622641509\n",
            "              precision    recall  f1-score   support\n",
            "\n",
            "           1       0.93      1.00      0.96      1997\n",
            "           2       0.78      0.88      0.82      1060\n",
            "           3       0.42      0.05      0.09       335\n",
            "\n",
            "    accuracy                           0.87      3392\n",
            "   macro avg       0.71      0.64      0.62      3392\n",
            "weighted avg       0.83      0.87      0.83      3392\n",
            "\n"
          ]
        }
      ],
      "source": [
        "print(\"\\nGaussian Naive Bayes model accuracy(in %):\", metrics.accuracy_score(y_test, y_pred)*100)\n",
        "print ( metrics.classification_report(y_test, y_pred)  ) \n",
        "gaussNbMetric = metrics.classification_report(y_test, y_pred)"
      ]
    },
    {
      "cell_type": "code",
      "source": [
        "pick_read = open('/content/drive/MyDrive/Colab Notebooks/SavedModels/gaussNb_model.pkl','rb')\n",
        "data = pickle.load(pick_read)\n",
        "y_pred = data.predict(X_test)\n",
        "\n",
        "print(\"\\nchecking pickel(in %):\", metrics.accuracy_score(y_test, y_pred)*100)\n",
        "print ( metrics.classification_report(y_test, y_pred)  ) \n",
        "gaussNbMetric = metrics.classification_report(y_test, y_pred)"
      ],
      "metadata": {
        "colab": {
          "base_uri": "https://localhost:8080/"
        },
        "id": "aNXfty1uI8KR",
        "outputId": "17a1dd40-c5d8-4f47-f44b-3c20021061a1"
      },
      "execution_count": null,
      "outputs": [
        {
          "output_type": "stream",
          "name": "stdout",
          "text": [
            "\n",
            "checking pickel(in %): 86.88089622641509\n",
            "              precision    recall  f1-score   support\n",
            "\n",
            "           1       0.93      1.00      0.96      1997\n",
            "           2       0.78      0.88      0.82      1060\n",
            "           3       0.42      0.05      0.09       335\n",
            "\n",
            "    accuracy                           0.87      3392\n",
            "   macro avg       0.71      0.64      0.62      3392\n",
            "weighted avg       0.83      0.87      0.83      3392\n",
            "\n"
          ]
        },
        {
          "output_type": "stream",
          "name": "stderr",
          "text": [
            "/usr/local/lib/python3.7/dist-packages/sklearn/base.py:444: UserWarning: X has feature names, but GaussianNB was fitted without feature names\n",
            "  f\"X has feature names, but {self.__class__.__name__} was fitted without\"\n"
          ]
        }
      ]
    },
    {
      "cell_type": "markdown",
      "source": [
        ""
      ],
      "metadata": {
        "id": "weoFmLGYI77k"
      }
    },
    {
      "cell_type": "code",
      "execution_count": null,
      "metadata": {
        "colab": {
          "base_uri": "https://localhost:8080/"
        },
        "id": "XQrfJn4H94tr",
        "outputId": "db4bc986-4e35-40aa-de17-305b643c38a4"
      },
      "outputs": [
        {
          "output_type": "stream",
          "name": "stderr",
          "text": [
            "/usr/local/lib/python3.7/dist-packages/sklearn/base.py:444: UserWarning: X has feature names, but MultinomialNB was fitted without feature names\n",
            "  f\"X has feature names, but {self.__class__.__name__} was fitted without\"\n"
          ]
        },
        {
          "output_type": "execute_result",
          "data": {
            "text/plain": [
              "[Text(0, 0.5, 'True'), Text(0.5, 0, 'Predicted')]"
            ]
          },
          "metadata": {},
          "execution_count": 14
        },
        {
          "output_type": "display_data",
          "data": {
            "text/plain": [
              "<Figure size 432x288 with 2 Axes>"
            ],
            "image/png": "[encoded data removed]"
          },
          "metadata": {
            "needs_background": "light"
          }
        }
      ],
      "source": [
        "from sklearn.naive_bayes import MultinomialNB\n",
        "MultiNb = MultinomialNB()\n",
        "MultiNb.fit(X_train.values, y_train)\n",
        "\n",
        "y_pred = MultiNb.predict(X_test)\n",
        "\n",
        "cm = confusion_matrix(y_test, y_pred)\n",
        "cmd = ConfusionMatrixDisplay(cm)\n",
        "\n",
        "cmd.plot()\n",
        "#cmd.ax_.set_title('title')\n",
        "cmd.ax_.set_title( 'Multinomial Naive Bayes')\n",
        "cmd.ax_.set(xlabel='Predicted', ylabel='True')\n",
        "\n",
        "\n"
      ]
    },
    {
      "cell_type": "code",
      "execution_count": null,
      "metadata": {
        "colab": {
          "base_uri": "https://localhost:8080/"
        },
        "id": "1x8BpRUndYCN",
        "outputId": "154c4990-6626-42db-e4bf-c3555e4745e3"
      },
      "outputs": [
        {
          "output_type": "stream",
          "name": "stdout",
          "text": [
            "              precision    recall  f1-score   support\n",
            "\n",
            "           1       0.81      0.98      0.89      1997\n",
            "           2       0.73      0.67      0.70      1060\n",
            "           3       0.00      0.00      0.00       335\n",
            "\n",
            "    accuracy                           0.79      3392\n",
            "   macro avg       0.51      0.55      0.53      3392\n",
            "weighted avg       0.71      0.79      0.74      3392\n",
            "\n"
          ]
        },
        {
          "output_type": "stream",
          "name": "stderr",
          "text": [
            "/usr/local/lib/python3.7/dist-packages/sklearn/metrics/_classification.py:1318: UndefinedMetricWarning: Precision and F-score are ill-defined and being set to 0.0 in labels with no predicted samples. Use `zero_division` parameter to control this behavior.\n",
            "  _warn_prf(average, modifier, msg_start, len(result))\n",
            "/usr/local/lib/python3.7/dist-packages/sklearn/metrics/_classification.py:1318: UndefinedMetricWarning: Precision and F-score are ill-defined and being set to 0.0 in labels with no predicted samples. Use `zero_division` parameter to control this behavior.\n",
            "  _warn_prf(average, modifier, msg_start, len(result))\n",
            "/usr/local/lib/python3.7/dist-packages/sklearn/metrics/_classification.py:1318: UndefinedMetricWarning: Precision and F-score are ill-defined and being set to 0.0 in labels with no predicted samples. Use `zero_division` parameter to control this behavior.\n",
            "  _warn_prf(average, modifier, msg_start, len(result))\n"
          ]
        }
      ],
      "source": [
        "print ( metrics.classification_report(y_test, y_pred) ) "
      ]
    },
    {
      "cell_type": "code",
      "execution_count": null,
      "metadata": {
        "colab": {
          "base_uri": "https://localhost:8080/"
        },
        "id": "6lUUhtlmE50O",
        "outputId": "e229f470-b165-45fe-8993-889195051085"
      },
      "outputs": [
        {
          "output_type": "stream",
          "name": "stdout",
          "text": [
            "\\Multinomail Naive Bayes model accuracy(in %): 78.74410377358491\n",
            "              precision    recall  f1-score   support\n",
            "\n",
            "           1       0.81      0.98      0.89      1997\n",
            "           2       0.73      0.67      0.70      1060\n",
            "           3       0.00      0.00      0.00       335\n",
            "\n",
            "    accuracy                           0.79      3392\n",
            "   macro avg       0.51      0.55      0.53      3392\n",
            "weighted avg       0.71      0.79      0.74      3392\n",
            "\n"
          ]
        },
        {
          "output_type": "stream",
          "name": "stderr",
          "text": [
            "/usr/local/lib/python3.7/dist-packages/sklearn/metrics/_classification.py:1318: UndefinedMetricWarning: Precision and F-score are ill-defined and being set to 0.0 in labels with no predicted samples. Use `zero_division` parameter to control this behavior.\n",
            "  _warn_prf(average, modifier, msg_start, len(result))\n",
            "/usr/local/lib/python3.7/dist-packages/sklearn/metrics/_classification.py:1318: UndefinedMetricWarning: Precision and F-score are ill-defined and being set to 0.0 in labels with no predicted samples. Use `zero_division` parameter to control this behavior.\n",
            "  _warn_prf(average, modifier, msg_start, len(result))\n",
            "/usr/local/lib/python3.7/dist-packages/sklearn/metrics/_classification.py:1318: UndefinedMetricWarning: Precision and F-score are ill-defined and being set to 0.0 in labels with no predicted samples. Use `zero_division` parameter to control this behavior.\n",
            "  _warn_prf(average, modifier, msg_start, len(result))\n"
          ]
        }
      ],
      "source": [
        "print(\"\\Multinomail Naive Bayes model accuracy(in %):\", metrics.accuracy_score(y_test, y_pred)*100)\n",
        "print ( metrics.classification_report(y_test, y_pred)  ) "
      ]
    },
    {
      "cell_type": "markdown",
      "metadata": {
        "id": "d64V5Px1gK3w"
      },
      "source": [
        "## Implementing our gradio app"
      ]
    },
    {
      "cell_type": "code",
      "execution_count": null,
      "metadata": {
        "id": "Oc3fCG7_VwSb"
      },
      "outputs": [],
      "source": [
        "!pip install gradio"
      ]
    },
    {
      "cell_type": "code",
      "execution_count": null,
      "metadata": {
        "id": "gqVarCPkwR4L"
      },
      "outputs": [],
      "source": [
        "import gradio as gr"
      ]
    },
    {
      "cell_type": "code",
      "execution_count": null,
      "metadata": {
        "colab": {
          "base_uri": "https://localhost:8080/"
        },
        "id": "5HK9EQOlZK3I",
        "outputId": "05308314-941c-46f7-a175-289022a40c5e"
      },
      "outputs": [
        {
          "output_type": "execute_result",
          "data": {
            "text/plain": [
              "       Operator       InOut NetworkType  Rating    CallDropCategory  \\\n",
              "0          RJio      Indoor          4G       4        Satisfactory   \n",
              "1        Airtel     Outdoor          4G       5        Satisfactory   \n",
              "2        Airtel      Indoor          4G       5        Satisfactory   \n",
              "3        Airtel      Indoor          4G       4        Satisfactory   \n",
              "4        Airtel      Indoor          4G       5        Satisfactory   \n",
              "...         ...         ...         ...     ...                 ...   \n",
              "16955      RJio     Outdoor          4G       5        Satisfactory   \n",
              "16956  Vodafone     Outdoor          4G       2  Poor Voice Quality   \n",
              "16957      RJio      Indoor          4G       1        Call Dropped   \n",
              "16958      BSNL  Travelling          2G       1        Call Dropped   \n",
              "16959  Vodafone      Indoor          3G       5        Satisfactory   \n",
              "\n",
              "         StateName  \n",
              "0       Tamil Nadu  \n",
              "1            Bihar  \n",
              "2            Bihar  \n",
              "3              NCT  \n",
              "4              NCT  \n",
              "...            ...  \n",
              "16955  Maharashtra  \n",
              "16956      Gujarat  \n",
              "16957       Odisha  \n",
              "16958  Maharashtra  \n",
              "16959  Maharashtra  \n",
              "\n",
              "[16960 rows x 6 columns]"
            ],
            "text/html": [
              "\n",
              "  <div id=\"df-f7954457-617f-4c11-b116-f43d55259b52\">\n",
              "    <div class=\"colab-df-container\">\n",
              "      <div>\n",
              "<style scoped>\n",
              "    .dataframe tbody tr th:only-of-type {\n",
              "        vertical-align: middle;\n",
              "    }\n",
              "\n",
              "    .dataframe tbody tr th {\n",
              "        vertical-align: top;\n",
              "    }\n",
              "\n",
              "    .dataframe thead th {\n",
              "        text-align: right;\n",
              "    }\n",
              "</style>\n",
              "<table border=\"1\" class=\"dataframe\">\n",
              "  <thead>\n",
              "    <tr style=\"text-align: right;\">\n",
              "      <th></th>\n",
              "      <th>Operator</th>\n",
              "      <th>InOut</th>\n",
              "      <th>NetworkType</th>\n",
              "      <th>Rating</th>\n",
              "      <th>CallDropCategory</th>\n",
              "      <th>StateName</th>\n",
              "    </tr>\n",
              "  </thead>\n",
              "  <tbody>\n",
              "    <tr>\n",
              "      <th>0</th>\n",
              "      <td>RJio</td>\n",
              "      <td>Indoor</td>\n",
              "      <td>4G</td>\n",
              "      <td>4</td>\n",
              "      <td>Satisfactory</td>\n",
              "      <td>Tamil Nadu</td>\n",
              "    </tr>\n",
              "    <tr>\n",
              "      <th>1</th>\n",
              "      <td>Airtel</td>\n",
              "      <td>Outdoor</td>\n",
              "      <td>4G</td>\n",
              "      <td>5</td>\n",
              "      <td>Satisfactory</td>\n",
              "      <td>Bihar</td>\n",
              "    </tr>\n",
              "    <tr>\n",
              "      <th>2</th>\n",
              "      <td>Airtel</td>\n",
              "      <td>Indoor</td>\n",
              "      <td>4G</td>\n",
              "      <td>5</td>\n",
              "      <td>Satisfactory</td>\n",
              "      <td>Bihar</td>\n",
              "    </tr>\n",
              "    <tr>\n",
              "      <th>3</th>\n",
              "      <td>Airtel</td>\n",
              "      <td>Indoor</td>\n",
              "      <td>4G</td>\n",
              "      <td>4</td>\n",
              "      <td>Satisfactory</td>\n",
              "      <td>NCT</td>\n",
              "    </tr>\n",
              "    <tr>\n",
              "      <th>4</th>\n",
              "      <td>Airtel</td>\n",
              "      <td>Indoor</td>\n",
              "      <td>4G</td>\n",
              "      <td>5</td>\n",
              "      <td>Satisfactory</td>\n",
              "      <td>NCT</td>\n",
              "    </tr>\n",
              "    <tr>\n",
              "      <th>...</th>\n",
              "      <td>...</td>\n",
              "      <td>...</td>\n",
              "      <td>...</td>\n",
              "      <td>...</td>\n",
              "      <td>...</td>\n",
              "      <td>...</td>\n",
              "    </tr>\n",
              "    <tr>\n",
              "      <th>16955</th>\n",
              "      <td>RJio</td>\n",
              "      <td>Outdoor</td>\n",
              "      <td>4G</td>\n",
              "      <td>5</td>\n",
              "      <td>Satisfactory</td>\n",
              "      <td>Maharashtra</td>\n",
              "    </tr>\n",
              "    <tr>\n",
              "      <th>16956</th>\n",
              "      <td>Vodafone</td>\n",
              "      <td>Outdoor</td>\n",
              "      <td>4G</td>\n",
              "      <td>2</td>\n",
              "      <td>Poor Voice Quality</td>\n",
              "      <td>Gujarat</td>\n",
              "    </tr>\n",
              "    <tr>\n",
              "      <th>16957</th>\n",
              "      <td>RJio</td>\n",
              "      <td>Indoor</td>\n",
              "      <td>4G</td>\n",
              "      <td>1</td>\n",
              "      <td>Call Dropped</td>\n",
              "      <td>Odisha</td>\n",
              "    </tr>\n",
              "    <tr>\n",
              "      <th>16958</th>\n",
              "      <td>BSNL</td>\n",
              "      <td>Travelling</td>\n",
              "      <td>2G</td>\n",
              "      <td>1</td>\n",
              "      <td>Call Dropped</td>\n",
              "      <td>Maharashtra</td>\n",
              "    </tr>\n",
              "    <tr>\n",
              "      <th>16959</th>\n",
              "      <td>Vodafone</td>\n",
              "      <td>Indoor</td>\n",
              "      <td>3G</td>\n",
              "      <td>5</td>\n",
              "      <td>Satisfactory</td>\n",
              "      <td>Maharashtra</td>\n",
              "    </tr>\n",
              "  </tbody>\n",
              "</table>\n",
              "<p>16960 rows × 6 columns</p>\n",
              "</div>\n",
              "      <button class=\"colab-df-convert\" onclick=\"convertToInteractive('df-f7954457-617f-4c11-b116-f43d55259b52')\"\n",
              "              title=\"Convert this dataframe to an interactive table.\"\n",
              "              style=\"display:none;\">\n",
              "        \n",
              "  <svg xmlns=\"http://www.w3.org/2000/svg\" height=\"24px\"viewBox=\"0 0 24 24\"\n",
              "       width=\"24px\">\n",
              "    <path d=\"M0 0h24v24H0V0z\" fill=\"none\"/>\n",
              "    <path d=\"M18.56 5.44l.94 2.06.94-2.06 2.06-.94-2.06-.94-.94-2.06-.94 2.06-2.06.94zm-11 1L8.5 8.5l.94-2.06 2.06-.94-2.06-.94L8.5 2.5l-.94 2.06-2.06.94zm10 10l.94 2.06.94-2.06 2.06-.94-2.06-.94-.94-2.06-.94 2.06-2.06.94z\"/><path d=\"M17.41 7.96l-1.37-1.37c-.4-.4-.92-.59-1.43-.59-.52 0-1.04.2-1.43.59L10.3 9.45l-7.72 7.72c-.78.78-.78 2.05 0 2.83L4 21.41c.39.39.9.59 1.41.59.51 0 1.02-.2 1.41-.59l7.78-7.78 2.81-2.81c.8-.78.8-2.07 0-2.86zM5.41 20L4 18.59l7.72-7.72 1.47 1.35L5.41 20z\"/>\n",
              "  </svg>\n",
              "      </button>\n",
              "      \n",
              "  <style>\n",
              "    .colab-df-container {\n",
              "      display:flex;\n",
              "      flex-wrap:wrap;\n",
              "      gap: 12px;\n",
              "    }\n",
              "\n",
              "    .colab-df-convert {\n",
              "      background-color: #E8F0FE;\n",
              "      border: none;\n",
              "      border-radius: 50%;\n",
              "      cursor: pointer;\n",
              "      display: none;\n",
              "      fill: #1967D2;\n",
              "      height: 32px;\n",
              "      padding: 0 0 0 0;\n",
              "      width: 32px;\n",
              "    }\n",
              "\n",
              "    .colab-df-convert:hover {\n",
              "      background-color: #E2EBFA;\n",
              "      box-shadow: 0px 1px 2px rgba(60, 64, 67, 0.3), 0px 1px 3px 1px rgba(60, 64, 67, 0.15);\n",
              "      fill: #174EA6;\n",
              "    }\n",
              "\n",
              "    [theme=dark] .colab-df-convert {\n",
              "      background-color: #3B4455;\n",
              "      fill: #D2E3FC;\n",
              "    }\n",
              "\n",
              "    [theme=dark] .colab-df-convert:hover {\n",
              "      background-color: #434B5C;\n",
              "      box-shadow: 0px 1px 3px 1px rgba(0, 0, 0, 0.15);\n",
              "      filter: drop-shadow(0px 1px 2px rgba(0, 0, 0, 0.3));\n",
              "      fill: #FFFFFF;\n",
              "    }\n",
              "  </style>\n",
              "\n",
              "      <script>\n",
              "        const buttonEl =\n",
              "          document.querySelector('#df-f7954457-617f-4c11-b116-f43d55259b52 button.colab-df-convert');\n",
              "        buttonEl.style.display =\n",
              "          google.colab.kernel.accessAllowed ? 'block' : 'none';\n",
              "\n",
              "        async function convertToInteractive(key) {\n",
              "          const element = document.querySelector('#df-f7954457-617f-4c11-b116-f43d55259b52');\n",
              "          const dataTable =\n",
              "            await google.colab.kernel.invokeFunction('convertToInteractive',\n",
              "                                                     [key], {});\n",
              "          if (!dataTable) return;\n",
              "\n",
              "          const docLinkHtml = 'Like what you see? Visit the ' +\n",
              "            '<a target=\"_blank\" href=https://colab.research.google.com/notebooks/data_table.ipynb>data table notebook</a>'\n",
              "            + ' to learn more about interactive tables.';\n",
              "          element.innerHTML = '';\n",
              "          dataTable['output_type'] = 'display_data';\n",
              "          await google.colab.output.renderOutput(dataTable, element);\n",
              "          const docLink = document.createElement('div');\n",
              "          docLink.innerHTML = docLinkHtml;\n",
              "          element.appendChild(docLink);\n",
              "        }\n",
              "      </script>\n",
              "    </div>\n",
              "  </div>\n",
              "  "
            ]
          },
          "metadata": {},
          "execution_count": 19
        }
      ],
      "source": [
        "old"
      ]
    },
    {
      "cell_type": "code",
      "execution_count": null,
      "metadata": {
        "colab": {
          "base_uri": "https://localhost:8080/"
        },
        "id": "PgDPZB3xrUEI",
        "outputId": "ec6998d5-010c-4e4c-cfac-47be8a2088c9"
      },
      "outputs": [
        {
          "output_type": "execute_result",
          "data": {
            "text/plain": [
              "2"
            ]
          },
          "metadata": {},
          "execution_count": 20
        }
      ],
      "source": [
        "temp = [[1, 1, 1, 1, 1]]\n",
        "gaussNb.predict( temp )[0]  "
      ]
    },
    {
      "cell_type": "code",
      "execution_count": null,
      "metadata": {
        "colab": {
          "base_uri": "https://localhost:8080/"
        },
        "id": "I73HJZEseFvH",
        "outputId": "b0a0cfa8-6a85-495b-9e24-125d668630b4"
      },
      "outputs": [
        {
          "output_type": "stream",
          "name": "stderr",
          "text": [
            "/usr/local/lib/python3.7/dist-packages/sklearn/metrics/_classification.py:1318: UndefinedMetricWarning: Precision and F-score are ill-defined and being set to 0.0 in labels with no predicted samples. Use `zero_division` parameter to control this behavior.\n",
            "  _warn_prf(average, modifier, msg_start, len(result))\n",
            "/usr/local/lib/python3.7/dist-packages/sklearn/metrics/_classification.py:1318: UndefinedMetricWarning: Precision and F-score are ill-defined and being set to 0.0 in labels with no predicted samples. Use `zero_division` parameter to control this behavior.\n",
            "  _warn_prf(average, modifier, msg_start, len(result))\n",
            "/usr/local/lib/python3.7/dist-packages/sklearn/metrics/_classification.py:1318: UndefinedMetricWarning: Precision and F-score are ill-defined and being set to 0.0 in labels with no predicted samples. Use `zero_division` parameter to control this behavior.\n",
            "  _warn_prf(average, modifier, msg_start, len(result))\n"
          ]
        }
      ],
      "source": [
        "x =  metrics.classification_report(y_test, y_pred, output_dict=True)  \n",
        "met1 = pd.DataFrame(x).transpose()\n"
      ]
    },
    {
      "cell_type": "code",
      "execution_count": null,
      "metadata": {
        "colab": {
          "base_uri": "https://localhost:8080/"
        },
        "id": "3PgKPhmQhdJV",
        "outputId": "bd82b90b-ca21-41f5-8088-4d1b29aade37"
      },
      "outputs": [
        {
          "output_type": "execute_result",
          "data": {
            "text/plain": [
              "                index  precision    recall  f1-score      support\n",
              "0        Satisfactory   0.809230  0.983475  0.887884  1997.000000\n",
              "1  Poor Voice Quality   0.732642  0.666981  0.698272  1060.000000\n",
              "2        Call Dropped   0.000000  0.000000  0.000000   335.000000\n",
              "3            accuracy   0.787441  0.787441  0.787441     0.787441\n",
              "4           macro avg   0.513957  0.550152  0.528719  3392.000000\n",
              "5        weighted avg   0.705375  0.787441  0.740941  3392.000000"
            ],
            "text/html": [
              "\n",
              "  <div id=\"df-724a17d1-5c0f-485c-b190-969c4b8a1877\">\n",
              "    <div class=\"colab-df-container\">\n",
              "      <div>\n",
              "<style scoped>\n",
              "    .dataframe tbody tr th:only-of-type {\n",
              "        vertical-align: middle;\n",
              "    }\n",
              "\n",
              "    .dataframe tbody tr th {\n",
              "        vertical-align: top;\n",
              "    }\n",
              "\n",
              "    .dataframe thead th {\n",
              "        text-align: right;\n",
              "    }\n",
              "</style>\n",
              "<table border=\"1\" class=\"dataframe\">\n",
              "  <thead>\n",
              "    <tr style=\"text-align: right;\">\n",
              "      <th></th>\n",
              "      <th>index</th>\n",
              "      <th>precision</th>\n",
              "      <th>recall</th>\n",
              "      <th>f1-score</th>\n",
              "      <th>support</th>\n",
              "    </tr>\n",
              "  </thead>\n",
              "  <tbody>\n",
              "    <tr>\n",
              "      <th>0</th>\n",
              "      <td>Satisfactory</td>\n",
              "      <td>0.809230</td>\n",
              "      <td>0.983475</td>\n",
              "      <td>0.887884</td>\n",
              "      <td>1997.000000</td>\n",
              "    </tr>\n",
              "    <tr>\n",
              "      <th>1</th>\n",
              "      <td>Poor Voice Quality</td>\n",
              "      <td>0.732642</td>\n",
              "      <td>0.666981</td>\n",
              "      <td>0.698272</td>\n",
              "      <td>1060.000000</td>\n",
              "    </tr>\n",
              "    <tr>\n",
              "      <th>2</th>\n",
              "      <td>Call Dropped</td>\n",
              "      <td>0.000000</td>\n",
              "      <td>0.000000</td>\n",
              "      <td>0.000000</td>\n",
              "      <td>335.000000</td>\n",
              "    </tr>\n",
              "    <tr>\n",
              "      <th>3</th>\n",
              "      <td>accuracy</td>\n",
              "      <td>0.787441</td>\n",
              "      <td>0.787441</td>\n",
              "      <td>0.787441</td>\n",
              "      <td>0.787441</td>\n",
              "    </tr>\n",
              "    <tr>\n",
              "      <th>4</th>\n",
              "      <td>macro avg</td>\n",
              "      <td>0.513957</td>\n",
              "      <td>0.550152</td>\n",
              "      <td>0.528719</td>\n",
              "      <td>3392.000000</td>\n",
              "    </tr>\n",
              "    <tr>\n",
              "      <th>5</th>\n",
              "      <td>weighted avg</td>\n",
              "      <td>0.705375</td>\n",
              "      <td>0.787441</td>\n",
              "      <td>0.740941</td>\n",
              "      <td>3392.000000</td>\n",
              "    </tr>\n",
              "  </tbody>\n",
              "</table>\n",
              "</div>\n",
              "      <button class=\"colab-df-convert\" onclick=\"convertToInteractive('df-724a17d1-5c0f-485c-b190-969c4b8a1877')\"\n",
              "              title=\"Convert this dataframe to an interactive table.\"\n",
              "              style=\"display:none;\">\n",
              "        \n",
              "  <svg xmlns=\"http://www.w3.org/2000/svg\" height=\"24px\"viewBox=\"0 0 24 24\"\n",
              "       width=\"24px\">\n",
              "    <path d=\"M0 0h24v24H0V0z\" fill=\"none\"/>\n",
              "    <path d=\"M18.56 5.44l.94 2.06.94-2.06 2.06-.94-2.06-.94-.94-2.06-.94 2.06-2.06.94zm-11 1L8.5 8.5l.94-2.06 2.06-.94-2.06-.94L8.5 2.5l-.94 2.06-2.06.94zm10 10l.94 2.06.94-2.06 2.06-.94-2.06-.94-.94-2.06-.94 2.06-2.06.94z\"/><path d=\"M17.41 7.96l-1.37-1.37c-.4-.4-.92-.59-1.43-.59-.52 0-1.04.2-1.43.59L10.3 9.45l-7.72 7.72c-.78.78-.78 2.05 0 2.83L4 21.41c.39.39.9.59 1.41.59.51 0 1.02-.2 1.41-.59l7.78-7.78 2.81-2.81c.8-.78.8-2.07 0-2.86zM5.41 20L4 18.59l7.72-7.72 1.47 1.35L5.41 20z\"/>\n",
              "  </svg>\n",
              "      </button>\n",
              "      \n",
              "  <style>\n",
              "    .colab-df-container {\n",
              "      display:flex;\n",
              "      flex-wrap:wrap;\n",
              "      gap: 12px;\n",
              "    }\n",
              "\n",
              "    .colab-df-convert {\n",
              "      background-color: #E8F0FE;\n",
              "      border: none;\n",
              "      border-radius: 50%;\n",
              "      cursor: pointer;\n",
              "      display: none;\n",
              "      fill: #1967D2;\n",
              "      height: 32px;\n",
              "      padding: 0 0 0 0;\n",
              "      width: 32px;\n",
              "    }\n",
              "\n",
              "    .colab-df-convert:hover {\n",
              "      background-color: #E2EBFA;\n",
              "      box-shadow: 0px 1px 2px rgba(60, 64, 67, 0.3), 0px 1px 3px 1px rgba(60, 64, 67, 0.15);\n",
              "      fill: #174EA6;\n",
              "    }\n",
              "\n",
              "    [theme=dark] .colab-df-convert {\n",
              "      background-color: #3B4455;\n",
              "      fill: #D2E3FC;\n",
              "    }\n",
              "\n",
              "    [theme=dark] .colab-df-convert:hover {\n",
              "      background-color: #434B5C;\n",
              "      box-shadow: 0px 1px 3px 1px rgba(0, 0, 0, 0.15);\n",
              "      filter: drop-shadow(0px 1px 2px rgba(0, 0, 0, 0.3));\n",
              "      fill: #FFFFFF;\n",
              "    }\n",
              "  </style>\n",
              "\n",
              "      <script>\n",
              "        const buttonEl =\n",
              "          document.querySelector('#df-724a17d1-5c0f-485c-b190-969c4b8a1877 button.colab-df-convert');\n",
              "        buttonEl.style.display =\n",
              "          google.colab.kernel.accessAllowed ? 'block' : 'none';\n",
              "\n",
              "        async function convertToInteractive(key) {\n",
              "          const element = document.querySelector('#df-724a17d1-5c0f-485c-b190-969c4b8a1877');\n",
              "          const dataTable =\n",
              "            await google.colab.kernel.invokeFunction('convertToInteractive',\n",
              "                                                     [key], {});\n",
              "          if (!dataTable) return;\n",
              "\n",
              "          const docLinkHtml = 'Like what you see? Visit the ' +\n",
              "            '<a target=\"_blank\" href=https://colab.research.google.com/notebooks/data_table.ipynb>data table notebook</a>'\n",
              "            + ' to learn more about interactive tables.';\n",
              "          element.innerHTML = '';\n",
              "          dataTable['output_type'] = 'display_data';\n",
              "          await google.colab.output.renderOutput(dataTable, element);\n",
              "          const docLink = document.createElement('div');\n",
              "          docLink.innerHTML = docLinkHtml;\n",
              "          element.appendChild(docLink);\n",
              "        }\n",
              "      </script>\n",
              "    </div>\n",
              "  </div>\n",
              "  "
            ]
          },
          "metadata": {},
          "execution_count": 22
        }
      ],
      "source": [
        "met1\n",
        "temp2 = met1\n",
        "#temp2.reset_index()\n",
        "#temp2.columns\n",
        "temp2 = temp2.reset_index()\n",
        "ls = ['Satisfactory', 'Poor Voice Quality', 'Call Dropped', 'accuracy', 'macro avg', 'weighted avg']\n",
        "temp_df  = pd.DataFrame(ls)\n",
        "temp2['index'] = temp_df\n",
        "temp2"
      ]
    },
    {
      "cell_type": "markdown",
      "metadata": {
        "id": "NlQEbgrxq3Qi"
      },
      "source": [
        "All the things needed for the gradio function but not need to be included in the functinon. So to make the function less cluttered write the other things here. "
      ]
    },
    {
      "cell_type": "code",
      "execution_count": null,
      "metadata": {
        "colab": {
          "base_uri": "https://localhost:8080/"
        },
        "id": "qUgp8nKupoaI",
        "outputId": "51f5200f-bc12-4cb4-9937-6de6f3f86ccf"
      },
      "outputs": [
        {
          "output_type": "stream",
          "name": "stderr",
          "text": [
            "/usr/local/lib/python3.7/dist-packages/sklearn/metrics/_classification.py:1318: UndefinedMetricWarning: Precision and F-score are ill-defined and being set to 0.0 in labels with no predicted samples. Use `zero_division` parameter to control this behavior.\n",
            "  _warn_prf(average, modifier, msg_start, len(result))\n",
            "/usr/local/lib/python3.7/dist-packages/sklearn/metrics/_classification.py:1318: UndefinedMetricWarning: Precision and F-score are ill-defined and being set to 0.0 in labels with no predicted samples. Use `zero_division` parameter to control this behavior.\n",
            "  _warn_prf(average, modifier, msg_start, len(result))\n",
            "/usr/local/lib/python3.7/dist-packages/sklearn/metrics/_classification.py:1318: UndefinedMetricWarning: Precision and F-score are ill-defined and being set to 0.0 in labels with no predicted samples. Use `zero_division` parameter to control this behavior.\n",
            "  _warn_prf(average, modifier, msg_start, len(result))\n"
          ]
        }
      ],
      "source": [
        "dict1 =  {1 : 'Satisfactory' , 2: 'Poor Voice Quality', 3: 'Call Dropped'}\n",
        "x =  metrics.classification_report(y_test, y_pred, output_dict=True)  \n",
        "x_after = pd.DataFrame(x).transpose()\n",
        "x_after = x_after.reset_index()\n",
        "ls = ['Satisfactory', 'Poor Voice Quality', 'Call Dropped', 'accuracy', 'macro avg', 'weighted avg']\n",
        "temp_df  = pd.DataFrame(ls)\n",
        "x_after['index'] = temp_df\n",
        "head = list ( x_after.columns ) \n"
      ]
    },
    {
      "cell_type": "code",
      "execution_count": null,
      "metadata": {
        "colab": {
          "base_uri": "https://localhost:8080/"
        },
        "id": "0MtvNzcVD7Sx",
        "outputId": "eecc061b-abd4-48ee-85f9-ccd9325d93a2"
      },
      "outputs": [
        {
          "output_type": "stream",
          "name": "stdout",
          "text": [
            " hello world\n"
          ]
        }
      ],
      "source": [
        "print ( ' hello world')"
      ]
    },
    {
      "cell_type": "code",
      "execution_count": null,
      "metadata": {
        "id": "kLyvnHMpXaiH"
      },
      "outputs": [],
      "source": [
        "def fun1(operator, inout, networktype, rating, statename): \n",
        "  temp = [[ obj['Operator'][operator], obj['InOut'][inout], obj['NetworkType'][networktype], rating, obj['StateName'][statename] ]]\n",
        "  ans1 = gaussNb.predict( temp ) [0] \n",
        "  \n",
        "  ans2 = MultiNb.predict( temp )[0]    \n",
        "  return ( dict1[ans1], dict1[ans2], x_after ) \n",
        "  "
      ]
    },
    {
      "cell_type": "code",
      "execution_count": null,
      "metadata": {
        "colab": {
          "base_uri": "https://localhost:8080/"
        },
        "id": "VLe2o8LzyfFN",
        "outputId": "b8dc86bd-f800-4cc8-ef59-b41255a27511"
      },
      "outputs": [
        {
          "output_type": "stream",
          "name": "stdout",
          "text": [
            "Operator   CallDropCategory  Calls Dropped\n",
            "    Idea       Call Dropped            167\n",
            "    Idea Poor Voice Quality            319\n",
            "    Idea       Satisfactory            777\n"
          ]
        },
        {
          "output_type": "execute_result",
          "data": {
            "text/plain": [
              "\"\\nfrom IPython.display import HTML\\nHTML(d.to_html(index=False))\\n\\n\\nif type(d) == 'IPython.core.display.HTML': \\n  print('yeah')\\nelse: \\n  print('nah')\\ntype(d)\\n\""
            ],
            "application/vnd.google.colaboratory.intrinsic+json": {
              "type": "string"
            }
          },
          "metadata": {},
          "execution_count": 26
        }
      ],
      "source": [
        "d= old.groupby(['Operator','CallDropCategory']).size()\n",
        "d = d.reset_index()\n",
        "d = d.rename(columns = {0 : 'Calls Dropped'} )\n",
        "d = d[\n",
        "      d['Operator'] == 'Idea'  \n",
        "    ] \n",
        "\n",
        "print(d.to_string(index=False))\n",
        "\n",
        "'''\n",
        "from IPython.display import HTML\n",
        "HTML(d.to_html(index=False))\n",
        "\n",
        "\n",
        "if type(d) == 'IPython.core.display.HTML': \n",
        "  print('yeah')\n",
        "else: \n",
        "  print('nah')\n",
        "type(d)\n",
        "'''"
      ]
    },
    {
      "cell_type": "code",
      "execution_count": null,
      "metadata": {
        "colab": {
          "base_uri": "https://localhost:8080/"
        },
        "id": "lzQQ_0QjyKEW",
        "outputId": "7acb0231-96fe-489f-dd7c-f8556a2a7a9f"
      },
      "outputs": [
        {
          "output_type": "stream",
          "name": "stdout",
          "text": [
            "Your state has 1760 calls\n",
            "Your operator has 4114 calls\n",
            "Your network type has 14638 calls\n",
            "In Uttar Pradesh with operator Airtel with a 4G connection and while being Outdoor, there are total 37 calls. \n",
            "Operator   CallDropCategory  Calls Dropped\n",
            "    Idea       Call Dropped            167\n",
            "    Idea Poor Voice Quality            319\n",
            "    Idea       Satisfactory            777\n"
          ]
        }
      ],
      "source": [
        "\n",
        "def fun2(operator, inout, networktype, rating, statename): \n",
        "  d = old.groupby(['StateName']).size()\n",
        "  d = d.reset_index()\n",
        "  d = d[d['StateName'] == statename][0].to_string(index=False)\n",
        "  statename_ans = 'Your state has ' + str(d) + ' calls'\n",
        "\n",
        "  d = old.groupby(['Operator']).size()\n",
        "  d = d.reset_index()\n",
        "  d = d[d['Operator'] == operator ][0].to_string(index=False)\n",
        "  operator_ans = 'Your operator has ' + str(d) + ' calls'\n",
        "\n",
        "  d = old.groupby(['NetworkType']).size()\n",
        "  d = d.reset_index()\n",
        "  d = d[d['NetworkType'] == networktype][0].to_string(index=False)\n",
        "  networktype_ans = 'Your network type has ' + str(d) + ' calls'\n",
        "\n",
        "  ans1 = str( old[\n",
        "              (old['StateName'] == statename) &\n",
        "              (old['Operator'] == operator) &\n",
        "              (old['NetworkType'] == networktype) &\n",
        "              (old['InOut'] == inout)\n",
        "              ].shape[0] ) \n",
        "  ans1 = 'In ' + statename + ' with operator ' + operator + ' with a ' + networktype + ' connection and while being ' + inout + ', there are total ' + ans1 + ' calls. '\n",
        "  \n",
        "  #checked till here\n",
        "  d= old.groupby(['Operator','CallDropCategory']).size()\n",
        "  d = d.reset_index()\n",
        "  d = d.rename(columns = {0 : 'Calls Dropped'} )\n",
        "  d = d[\n",
        "        d['Operator'] == 'Idea'  \n",
        "      ]   \n",
        "  ans2 = d\n",
        "\n",
        "  ls = [statename_ans, operator_ans, networktype_ans, ans1, ans2]\n",
        "  for x in ls: \n",
        "    if type(x) != str: \n",
        "      print(x.to_string(index=False))\n",
        "    else: \n",
        "      print(x)\n",
        "\n",
        "fun2('Airtel', 'Outdoor', '4G', 3, 'Uttar Pradesh')   "
      ]
    },
    {
      "cell_type": "code",
      "execution_count": null,
      "metadata": {
        "id": "7CEOoocLdsWj"
      },
      "outputs": [],
      "source": [
        "#temp = list ( df['Rating'].unique() ) \n",
        "interface = gr.Interface(\n",
        "    fn = fun1,\n",
        "    inputs = [ gr.inputs.Dropdown(list( obj['Operator'].keys() ) , label = 'Select an Operator' ),\n",
        "              gr.inputs.Dropdown(list( obj['InOut'].keys() ) , label = 'Indoor, outdoor, or travelling' ),\n",
        "              gr.inputs.Dropdown(list( obj['NetworkType'].keys() ) , label = 'Select your network type' ),\n",
        "              gr.inputs.Dropdown( [1,2,3,4,5] , label = 'Select your rating' ),              \n",
        "              gr.inputs.Dropdown(list( obj['StateName'].keys() ) , label = 'Select the State' ),              \n",
        "              ], \n",
        "    outputs = [\n",
        "               gr.outputs.Textbox(label = 'Gaussian NB'), \n",
        "               gr.outputs.Textbox(label = 'MultiNB'),\n",
        "               gr.outputs.Dataframe(label='Accuracy', headers = head)\n",
        "\n",
        "    ], \n",
        "    theme = 'dark-huggingface')    \n",
        "\n",
        "#interface.launch(debug = True)"
      ]
    },
    {
      "cell_type": "code",
      "execution_count": null,
      "metadata": {
        "id": "_901K-qIg6pl"
      },
      "outputs": [],
      "source": [
        ""
      ]
    },
    {
      "cell_type": "markdown",
      "source": [
        "# **Streamlit application**\n"
      ],
      "metadata": {
        "id": "EMEfC_QrSZRy"
      }
    },
    {
      "cell_type": "code",
      "source": [
        "!pip install streamlit -q"
      ],
      "metadata": {
        "id": "pXRmHo9eSsw6",
        "colab": {
          "base_uri": "https://localhost:8080/"
        },
        "outputId": "41bd85ba-b9e3-45fa-c350-242a52bdc468"
      },
      "execution_count": null,
      "outputs": [
        {
          "output_type": "stream",
          "name": "stdout",
          "text": [
            "\u001b[K     |████████████████████████████████| 10.1 MB 5.3 MB/s \n",
            "\u001b[K     |████████████████████████████████| 4.3 MB 46.2 MB/s \n",
            "\u001b[K     |████████████████████████████████| 111 kB 44.3 MB/s \n",
            "\u001b[K     |████████████████████████████████| 181 kB 48.1 MB/s \n",
            "\u001b[K     |████████████████████████████████| 164 kB 29.7 MB/s \n",
            "\u001b[K     |████████████████████████████████| 76 kB 4.3 MB/s \n",
            "\u001b[K     |████████████████████████████████| 63 kB 1.5 MB/s \n",
            "\u001b[K     |████████████████████████████████| 130 kB 53.1 MB/s \n",
            "\u001b[K     |████████████████████████████████| 793 kB 49.9 MB/s \n",
            "\u001b[K     |████████████████████████████████| 428 kB 60.2 MB/s \n",
            "\u001b[K     |████████████████████████████████| 1.1 MB 41.4 MB/s \n",
            "\u001b[K     |████████████████████████████████| 130 kB 23.5 MB/s \n",
            "\u001b[K     |████████████████████████████████| 380 kB 45.3 MB/s \n",
            "\u001b[?25h  Building wheel for blinker (setup.py) ... \u001b[?25l\u001b[?25hdone\n",
            "\u001b[31mERROR: pip's dependency resolver does not currently take into account all the packages that are installed. This behaviour is the source of the following dependency conflicts.\n",
            "tensorflow 2.8.0 requires tf-estimator-nightly==2.8.0.dev2021122109, which is not installed.\n",
            "jupyter-console 5.2.0 requires prompt-toolkit<2.0.0,>=1.0.0, but you have prompt-toolkit 3.0.28 which is incompatible.\n",
            "google-colab 1.0.0 requires ipykernel~=4.10, but you have ipykernel 6.11.0 which is incompatible.\n",
            "google-colab 1.0.0 requires ipython~=5.5.0, but you have ipython 7.32.0 which is incompatible.\n",
            "google-colab 1.0.0 requires tornado~=5.1.0; python_version >= \"3.0\", but you have tornado 6.1 which is incompatible.\n",
            "datascience 0.10.6 requires folium==0.2.1, but you have folium 0.8.3 which is incompatible.\u001b[0m\n"
          ]
        }
      ]
    },
    {
      "cell_type": "code",
      "source": [
        "!pip install --upgrade streamlit"
      ],
      "metadata": {
        "id": "I4-UxgJjJSng"
      },
      "execution_count": null,
      "outputs": []
    },
    {
      "cell_type": "code",
      "source": [
        "pick_read = open('/content/drive/MyDrive/Colab Notebooks/SavedModels/gaussNb_model.pkl','rb')\n",
        "data = pickle.load(pick_read)\n"
      ],
      "metadata": {
        "id": "htqewIYLSfwW"
      },
      "execution_count": null,
      "outputs": []
    },
    {
      "cell_type": "code",
      "source": [
        "%%writefile app.py\n",
        "import streamlit as st\n",
        "from predict_page import show_predict_page\n",
        "from models_page import show_models_page\n",
        "from explore_page import show_explore_page\n",
        "\n",
        "page = st.sidebar.selectbox(\"Features\", (\"Predict\", \"Explore\", \"Models\"))\n",
        "if page == \"Explore\": \n",
        "  show_explore_page()\n",
        "elif page == \"Models\": \n",
        "  show_models_page()\n",
        "else:\n",
        "  show_predict_page()"
      ],
      "metadata": {
        "colab": {
          "base_uri": "https://localhost:8080/"
        },
        "id": "AwD6P7LcSlF9",
        "outputId": "2b4e6395-d58c-4bbc-a4bb-12cb19bde4d7"
      },
      "execution_count": null,
      "outputs": [
        {
          "output_type": "stream",
          "name": "stdout",
          "text": [
            "Writing app.py\n"
          ]
        }
      ]
    },
    {
      "cell_type": "code",
      "source": [
        "%%writefile models_page.py\n",
        "import streamlit as st\n",
        "import pickle \n",
        "import numpy as np\n",
        "import pandas as pd\n",
        "\n",
        "def show_models_page(): \n",
        "  st.write(\"\"\" # You are inside Models page \"\"\")"
      ],
      "metadata": {
        "colab": {
          "base_uri": "https://localhost:8080/"
        },
        "id": "1cMXBARvBl5J",
        "outputId": "ce3698a9-f4b1-4249-b5d1-32d2a5b5abe1"
      },
      "execution_count": null,
      "outputs": [
        {
          "output_type": "stream",
          "name": "stdout",
          "text": [
            "Writing models_page.py\n"
          ]
        }
      ]
    },
    {
      "cell_type": "code",
      "source": [
        "%%writefile explore_page.py\n",
        "import streamlit as st\n",
        "import pickle \n",
        "import numpy as np\n",
        "import pandas as pd\n",
        "\n",
        "def show_explore_page(): \n",
        "  if \"flag\" not in st.session_state: \n",
        "    st.title(\"\"\" Please select your inputs from Predict page and click predict \"\"\")    \n",
        "  else: \n",
        "    st.title(\"\"\"  You are inside explore page \"\"\")\n",
        "\n",
        "    # reding the data set\n",
        "    df = pd.read_csv(\"/content/drive/MyDrive/datasets/MyCall_Data_September_2019_cleaning.csv\")\n",
        "    df.drop(['Latitude', 'Longitude'],axis = 'columns', inplace = True)\n",
        "    df.rename( columns = {\n",
        "    'In Out Travelling': 'InOut', 'Network Type': 'NetworkType', 'Call Drop Category': 'CallDropCategory', 'State Name': 'StateName'},\n",
        "     inplace = True)\n",
        "    old = df.copy()\n",
        "\n",
        "\n",
        "\n",
        "    # setting the user selected attributes\n",
        "    operator = st.session_state.operator    \n",
        "    inout = st.session_state.inout  \n",
        "    networktypes = st.session_state.network \n",
        "    statename = st.session_state.state     \n",
        "    ratings = st.session_state.rating  \n",
        "\n",
        "\n",
        "    # displaying the results    \n",
        "    d = old.groupby(['StateName']).size()\n",
        "    d = d.reset_index()\n",
        "    d = d[d['StateName'] == statename][0].to_string(index=False)\n",
        "    st.write ( \"\"\" ### statename + \" has made \" + str(d) + \" calls\" \"\"\" )  "
      ],
      "metadata": {
        "colab": {
          "base_uri": "https://localhost:8080/"
        },
        "id": "fJBkBFb8Be9T",
        "outputId": "86a3278c-5824-4acc-fffb-0ae72acea794"
      },
      "execution_count": null,
      "outputs": [
        {
          "output_type": "stream",
          "name": "stdout",
          "text": [
            "Overwriting explore_page.py\n"
          ]
        }
      ]
    },
    {
      "cell_type": "code",
      "source": [
        "%%writefile predict_page.py\n",
        "import streamlit as st\n",
        "import pickle \n",
        "import numpy as np\n",
        "import pandas as pd\n",
        "\n",
        "\n",
        "\n",
        "df = pd.read_csv(\"/content/drive/MyDrive/datasets/MyCall_Data_September_2019_cleaning.csv\")\n",
        "df.drop(['Latitude', 'Longitude'],axis = 'columns', inplace = True)\n",
        "df.rename( columns = {'In Out Travelling': 'InOut', 'Network Type': 'NetworkType', 'Call Drop Category': 'CallDropCategory', 'State Name': 'StateName'}, inplace = True)\n",
        "obj = {\n",
        "'Operator': {'RJio':1 ,'Airtel':2,'Idea':3,'Other':4,'Vodafone':5,'BSNL':6,'MTNL':7}, \n",
        "'InOut' : {'Indoor':1 ,'Outdoor':2,'Travelling':3}, \n",
        "'NetworkType':  {'4G':1 ,'3G':2,'2G':3}, \n",
        "'CallDropCategory': {'Satisfactory' : 1, 'Poor Voice Quality': 2, 'Call Dropped': 3},     \n",
        "'StateName' : {} }\n",
        "\n",
        "count = 1\n",
        "for x in df['StateName'].unique(): \n",
        "  obj['StateName'][x] = count\n",
        "  count += 1\n",
        "\n",
        "dict1 =  {1 : 'Satisfactory' , 2: 'Poor Voice Quality', 3: 'Call Dropped'}\n",
        "\n",
        "def load_model(): \n",
        "\tpick_read = open('/content/drive/MyDrive/Colab Notebooks/SavedModels/gaussNb_model.pkl','rb')\n",
        "\tdata = pickle.load(pick_read)\n",
        "\treturn data\n",
        "\n",
        "\n",
        "\n",
        "def show_predict_page():\n",
        "\tgaussNb = load_model()\n",
        "\tst.title(\"Call Drop Analysis\")\t\n",
        "\tst.write(\"\"\" ###### Analysed information based on the user inputs. These inputs will be paased to our pre trained model. \"\"\")\n",
        "\t\n",
        "\toperator = st.selectbox( \"Operator\", list ( obj['Operator'].keys() ) ) \n",
        "\tinout = st.selectbox (\"Travelling type\", list ( obj['InOut'].keys() ) ) \n",
        "\tnetwork = st.selectbox (\"Network\",  list ( obj['NetworkType'].keys() )  ) \n",
        "\tstate = st.selectbox(\"State\", list ( obj['StateName'].keys() ) )\n",
        "\trating = st.slider(\"Rating\", 1, 5, 1); \n",
        "\n",
        "\tbtn = st.button('Precit Call Drop')\n",
        "\tif btn:\n",
        "\t\ttemp = [[ obj['Operator'][operator], obj['InOut'][inout], obj['NetworkType'][network], rating, obj['StateName'][state] ]]\n",
        "\t\tans = gaussNb.predict(temp)[0]\t\t\n",
        "\t\tst.subheader(\"Predicted category by gaussian NB: \" + dict1[ans] )\t\n",
        "\t\tst.session_state.flag  = True\n",
        "\t\tst.session_state.operator = operator\n",
        "\t\tst.session_state.inout = inout\n",
        "\t\tst.session_state.network = network\n",
        "\t\tst.session_state.state = state\n",
        "\t\tst.session_state.rating = rating\n"
      ],
      "metadata": {
        "colab": {
          "base_uri": "https://localhost:8080/"
        },
        "id": "ho-8xXGeSmbr",
        "outputId": "66f0b5ad-10f6-453a-af89-9ad2e07c1308"
      },
      "execution_count": null,
      "outputs": [
        {
          "output_type": "stream",
          "name": "stdout",
          "text": [
            "Writing predict_page.py\n"
          ]
        }
      ]
    },
    {
      "cell_type": "code",
      "source": [
        "!streamlit run app.py & npx localtunnel --port 8501"
      ],
      "metadata": {
        "colab": {
          "base_uri": "https://localhost:8080/"
        },
        "id": "SFEogLyxSnjE",
        "outputId": "54281d1c-4381-4142-d513-bdd28b40fb37"
      },
      "execution_count": null,
      "outputs": [
        {
          "output_type": "stream",
          "name": "stdout",
          "text": [
            "2022-04-02 03:32:23.663 INFO    numexpr.utils: NumExpr defaulting to 2 threads.\n",
            "\u001b[0m\n",
            "\u001b[34m\u001b[1m  You can now view your Streamlit app in your browser.\u001b[0m\n",
            "\u001b[0m\n",
            "\u001b[34m  Network URL: \u001b[0m\u001b[1mhttp://172.28.0.2:8501\u001b[0m\n",
            "\u001b[34m  External URL: \u001b[0m\u001b[1mhttp://35.227.63.183:8501\u001b[0m\n",
            "\u001b[0m\n",
            "\u001b[K\u001b[?25hnpx: installed 22 in 4.645s\n",
            "your url is: https://ugly-badger-12.loca.lt\n",
            "\u001b[34m  Stopping...\u001b[0m\n",
            "^C\n"
          ]
        }
      ]
    },
    {
      "cell_type": "code",
      "source": [
        ""
      ],
      "metadata": {
        "id": "Qiz5p_pMVCOK"
      },
      "execution_count": null,
      "outputs": []
    }
  ],
  "metadata": {
    "colab": {
      "collapsed_sections": [],
      "name": "IBM2.ipynb",
      "provenance": []
    },
    "kernelspec": {
      "display_name": "Python 3",
      "name": "python3"
    },
    "language_info": {
      "name": "python"
    }
  },
  "nbformat": 4,
  "nbformat_minor": 0
}